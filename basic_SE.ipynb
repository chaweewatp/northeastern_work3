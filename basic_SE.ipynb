{
 "cells": [
  {
   "cell_type": "code",
   "execution_count": 61,
   "metadata": {},
   "outputs": [
    {
     "name": "stdout",
     "output_type": "stream",
     "text": [
      "2.0.1\n"
     ]
    }
   ],
   "source": [
    "import pandapower as pp\n",
    "import pandapower.networks as pn\n",
    "from pandapower.estimation import estimate, remove_bad_data, chi2_analysis\n",
    "import pandas as pd\n",
    "import numpy as np\n",
    "# from tqdm import tqdm\n",
    "print(pp.__version__)\n",
    "import matplotlib.pyplot as plt\n",
    "import ruptures as rpt\n",
    "from tqdm import tqdm\n",
    "# from julia.PowerModels import run_ac_opf\n",
    "# from julia.PowerModels import run_ac_opf"
   ]
  },
  {
   "cell_type": "code",
   "execution_count": 62,
   "metadata": {},
   "outputs": [],
   "source": [
    "def create_measurement_unit(df_measurement, net):\n",
    "    list_value=[]\n",
    "    list_std=[]\n",
    "    for index, row in df_measurement.iterrows():\n",
    "        if row['element_type'] =='bus':\n",
    "            if row['meas_type'] =='v':\n",
    "                mu= net.res_bus.iloc[row['element'],0]\n",
    "                sigma = (abs(mu)*upper_bus_accuracy-abs(mu)*lower_bus_accuracy)/4\n",
    "            elif row['meas_type'] =='p':\n",
    "                mu= net.res_bus.iloc[row['element'],2]\n",
    "                sigma = (abs(mu)*upper_bus_accuracy-abs(mu)*lower_bus_accuracy)/4\n",
    "            elif row['meas_type'] =='q':\n",
    "                mu= net.res_bus.iloc[row['element'],3]\n",
    "                sigma = (abs(mu)*upper_bus_accuracy-abs(mu)*lower_bus_accuracy)/4\n",
    "                \n",
    "        elif row['element_type'] =='line':\n",
    "            if row['side']=='from':\n",
    "                if row['meas_type'] =='p':\n",
    "                    mu= net.res_line.iloc[row['element'],0]\n",
    "                    sigma = (abs(mu)*upper_line_accuracy-abs(mu)*lower_line_accuracy)/4\n",
    "                elif row['meas_type'] =='q':\n",
    "                    mu = net.res_line.iloc[row['element'],1]\n",
    "                    sigma = (abs(mu)*upper_line_accuracy-abs(mu)*lower_line_accuracy)/4\n",
    "                elif row['meas_type']=='i':\n",
    "                    mu=net.res_line.iloc[row['element'],6]\n",
    "                    sigma = (abs(mu)*upper_line_accuracy-abs(mu)*lower_line_accuracy)/4\n",
    "            elif row['side']=='to':\n",
    "                if row['meas_type'] =='p':\n",
    "                    mu= net.res_line.iloc[row['element'],2]\n",
    "                    sigma = (abs(mu)*upper_line_accuracy-abs(mu)*lower_line_accuracy)/4\n",
    "                elif row['meas_type'] =='q':\n",
    "                    mu = net.res_line.iloc[row['element'],3]\n",
    "                    sigma = (abs(mu)*upper_line_accuracy-abs(mu)*lower_line_accuracy)/4\n",
    "                elif row['meas_type']=='i':\n",
    "                    mu=net.res_line.iloc[row['element'],7]\n",
    "                    sigma = (abs(mu)*upper_line_accuracy-abs(mu)*lower_line_accuracy)/4\n",
    "                    \n",
    "                    \n",
    "        elif row['element_type'] =='trafo':\n",
    "            if row['side']=='from':\n",
    "                if row['meas_type'] == 'i':\n",
    "                    mu =net.res_trafo.iloc[row['element'],6]\n",
    "                    sigma = (abs(mu)*upper_trafo_accuracy-abs(mu)*lower_trafo_accuracy)/4\n",
    "                elif row['meas_type'] == 'p':\n",
    "                    mu =net.res_trafo.iloc[row['element'],0]\n",
    "                    sigma = (abs(mu)*upper_trafo_accuracy-abs(mu)*lower_trafo_accuracy)/4\n",
    "                elif row['meas_type'] == 'q':\n",
    "                    mu =net.res_trafo.iloc[row['element'],1]\n",
    "                    sigma = (abs(mu)*upper_trafo_accuracy-abs(mu)*lower_trafo_accuracy)/4\n",
    "            elif row['side']=='to':\n",
    "                if row['meas_type'] =='i':\n",
    "                    mu =net.res_trafo.iloc[row['element'],7]\n",
    "                    sigma = (abs(mu)*upper_trafo_accuracy-abs(mu)*lower_trafo_accuracy)/4\n",
    "                elif row['meas_type'] =='p':\n",
    "                    mu =net.res_trafo.iloc[row['element'],2]\n",
    "                    sigma = (abs(mu)*upper_trafo_accuracy-abs(mu)*lower_trafo_accuracy)/4\n",
    "                elif row['meas_type'] =='q':\n",
    "                    mu =net.res_trafo.iloc[row['element'],3]\n",
    "                    sigma = (abs(mu)*upper_trafo_accuracy-abs(mu)*lower_trafo_accuracy)/4\n",
    "#         print(mu)  \n",
    "        value = np.random.normal(mu, sigma, 1)\n",
    "        list_value.append(value[0])\n",
    "        list_std.append(sigma)\n",
    "    df_measurement['value']=list_value\n",
    "    df_measurement['std_dev']=list_std\n",
    "\n",
    "    for index, row in df_measurement.iterrows():\n",
    "        if row['element_type']=='bus':\n",
    "            pp.create_measurement(net, row['meas_type'], row['element_type'], value=row['value'], \n",
    "                                  std_dev=row['std_dev'], element=row['element'])\n",
    "        elif row['element_type']=='line':\n",
    "            pp.create_measurement(net, row['meas_type'], row['element_type'], value=row['value'], \n",
    "                                  std_dev=row['std_dev'], element=row['element'], side=row['side'])\n",
    "        elif row['element_type']=='trafo':\n",
    "            if row['meas_type'] in ['p','q']:\n",
    "                pp.create_measurement(net, row['meas_type'], row['element_type'], value=row['value'], \n",
    "                                      std_dev=row['std_dev'], element=row['element'], side=row['side'])\n",
    "    return df_measurement, net"
   ]
  },
  {
   "cell_type": "code",
   "execution_count": 63,
   "metadata": {},
   "outputs": [],
   "source": [
    "global upper_bus_accuracy, lower_bus_accuracy, upper_line_accuracy, lower_line_accuracy, upper_trafo_accuracy, lower_trafo_accuracy\n",
    "upper_bus_accuracy=1.01\n",
    "lower_bus_accuracy=0.99\n",
    "upper_line_accuracy=1.03\n",
    "lower_line_accuracy=0.97\n",
    "upper_trafo_accuracy=1.03\n",
    "lower_trafo_accuracy=0.97"
   ]
  },
  {
   "cell_type": "code",
   "execution_count": 64,
   "metadata": {},
   "outputs": [],
   "source": [
    "net = pn.create_cigre_network_mv(with_der=\"pv_wind\")\n",
    "net.bus=net.bus.sort_index()\n",
    "net.line=net.line.sort_index()\n",
    "net.trafo=net.trafo.sort_index()\n",
    "net.load=net.load.sort_index()\n",
    "net.sgen=net.sgen.sort_index()\n",
    "net.sgen.p_mw=np.random.randint(50, size=len(net.sgen))/1000\n",
    "net.sgen.sn_mva=net.sgen.p_mw\n",
    "# net.shunt=net.shunt.sort_index()\n",
    "net.switch.closed=[True]*2+[True]*2+[True]*2+[True]*2\n",
    "\n",
    "zero_inject_bus= list(set(net.bus.index).difference(set(np.where(net.gen.p_mw!=0)[0]).union(set(net.load.bus)).union(net.ext_grid.bus).union(net.shunt.bus)))\n",
    "list_bus_meas=list(set(net.bus.index)-set(zero_inject_bus))\n",
    "list_line_meas=list(set(net.line.index))\n",
    "list_transfo_meas=list(set(net.trafo.index))\n",
    "df_measurement=pd.DataFrame()\n",
    "df_measurement['meas_type']=['v']*len(list_bus_meas)+['p','q','p','q']*len(list_line_meas)+['p','q','p','q']*len(list_transfo_meas)\n",
    "df_measurement['element_type']=['bus']*len(list_bus_meas)+['line','line','line','line']*len(list_line_meas)+['trafo','trafo','trafo','trafo']*len(list_transfo_meas)\n",
    "df_measurement['element']=[item for item in list_bus_meas]+[item for item in list_line_meas for x in range(4)]+[item for item in list_transfo_meas for x in range(4)]\n",
    "df_measurement['side']=['None']*len(list_bus_meas)+['from','from','to','to']*len(list_line_meas)+['from','from','to','to']*len(list_transfo_meas)\n",
    "\n",
    "\n",
    "pp.runpp(net)\n",
    "net.res_bus=net.res_bus.sort_index()\n",
    "net.res_line=net.res_line.sort_index()\n",
    "net.res_trafo=net.res_trafo.sort_index()\n",
    "df_measurement, net = create_measurement_unit(df_measurement, net)\n",
    "success = estimate(net, init=\"slack\", zero_injection=zero_inject_bus, calculate_voltage_angles=True)"
   ]
  },
  {
   "cell_type": "code",
   "execution_count": 65,
   "metadata": {},
   "outputs": [
    {
     "data": {
      "text/html": [
       "<div>\n",
       "<style scoped>\n",
       "    .dataframe tbody tr th:only-of-type {\n",
       "        vertical-align: middle;\n",
       "    }\n",
       "\n",
       "    .dataframe tbody tr th {\n",
       "        vertical-align: top;\n",
       "    }\n",
       "\n",
       "    .dataframe thead th {\n",
       "        text-align: right;\n",
       "    }\n",
       "</style>\n",
       "<table border=\"1\" class=\"dataframe\">\n",
       "  <thead>\n",
       "    <tr style=\"text-align: right;\">\n",
       "      <th></th>\n",
       "      <th>name</th>\n",
       "      <th>measurement_type</th>\n",
       "      <th>element_type</th>\n",
       "      <th>element</th>\n",
       "      <th>value</th>\n",
       "      <th>std_dev</th>\n",
       "      <th>side</th>\n",
       "    </tr>\n",
       "  </thead>\n",
       "  <tbody>\n",
       "    <tr>\n",
       "      <th>0</th>\n",
       "      <td>None</td>\n",
       "      <td>v</td>\n",
       "      <td>bus</td>\n",
       "      <td>0</td>\n",
       "      <td>1.034450</td>\n",
       "      <td>0.005150</td>\n",
       "      <td>None</td>\n",
       "    </tr>\n",
       "    <tr>\n",
       "      <th>1</th>\n",
       "      <td>None</td>\n",
       "      <td>v</td>\n",
       "      <td>bus</td>\n",
       "      <td>1</td>\n",
       "      <td>0.995040</td>\n",
       "      <td>0.004980</td>\n",
       "      <td>None</td>\n",
       "    </tr>\n",
       "    <tr>\n",
       "      <th>2</th>\n",
       "      <td>None</td>\n",
       "      <td>v</td>\n",
       "      <td>bus</td>\n",
       "      <td>3</td>\n",
       "      <td>0.961236</td>\n",
       "      <td>0.004809</td>\n",
       "      <td>None</td>\n",
       "    </tr>\n",
       "    <tr>\n",
       "      <th>3</th>\n",
       "      <td>None</td>\n",
       "      <td>v</td>\n",
       "      <td>bus</td>\n",
       "      <td>4</td>\n",
       "      <td>0.961745</td>\n",
       "      <td>0.004800</td>\n",
       "      <td>None</td>\n",
       "    </tr>\n",
       "    <tr>\n",
       "      <th>4</th>\n",
       "      <td>None</td>\n",
       "      <td>v</td>\n",
       "      <td>bus</td>\n",
       "      <td>5</td>\n",
       "      <td>0.949843</td>\n",
       "      <td>0.004796</td>\n",
       "      <td>None</td>\n",
       "    </tr>\n",
       "  </tbody>\n",
       "</table>\n",
       "</div>"
      ],
      "text/plain": [
       "   name measurement_type element_type  element     value   std_dev  side\n",
       "0  None                v          bus        0  1.034450  0.005150  None\n",
       "1  None                v          bus        1  0.995040  0.004980  None\n",
       "2  None                v          bus        3  0.961236  0.004809  None\n",
       "3  None                v          bus        4  0.961745  0.004800  None\n",
       "4  None                v          bus        5  0.949843  0.004796  None"
      ]
     },
     "execution_count": 65,
     "metadata": {},
     "output_type": "execute_result"
    }
   ],
   "source": [
    "net.measurement.head()"
   ]
  },
  {
   "cell_type": "code",
   "execution_count": 66,
   "metadata": {},
   "outputs": [
    {
     "name": "stdout",
     "output_type": "stream",
     "text": [
      "   name measurement_type element_type  element     value   std_dev  side\n",
      "0  None                v          bus        0  1.034450  0.005150  None\n",
      "1  None                v          bus        1  0.900000  0.004980  None\n",
      "2  None                v          bus        3  0.961236  0.004809  None\n",
      "3  None                v          bus        4  0.961745  0.004800  None\n",
      "4  None                v          bus        5  0.949843  0.004796  None\n"
     ]
    }
   ],
   "source": [
    "net.measurement.iloc[1,4]=0.9\n",
    "print(net.measurement.head())"
   ]
  },
  {
   "cell_type": "code",
   "execution_count": 69,
   "metadata": {},
   "outputs": [
    {
     "name": "stdout",
     "output_type": "stream",
     "text": [
      "Chi square test: True\n"
     ]
    }
   ],
   "source": [
    "success_chi2 = chi2_analysis(net, init=\"slack\")\n",
    "print('Chi square test:', success_chi2)"
   ]
  },
  {
   "cell_type": "code",
   "execution_count": 43,
   "metadata": {},
   "outputs": [
    {
     "data": {
      "text/html": [
       "<div>\n",
       "<style scoped>\n",
       "    .dataframe tbody tr th:only-of-type {\n",
       "        vertical-align: middle;\n",
       "    }\n",
       "\n",
       "    .dataframe tbody tr th {\n",
       "        vertical-align: top;\n",
       "    }\n",
       "\n",
       "    .dataframe thead th {\n",
       "        text-align: right;\n",
       "    }\n",
       "</style>\n",
       "<table border=\"1\" class=\"dataframe\">\n",
       "  <thead>\n",
       "    <tr style=\"text-align: right;\">\n",
       "      <th></th>\n",
       "      <th>name</th>\n",
       "      <th>measurement_type</th>\n",
       "      <th>element_type</th>\n",
       "      <th>element</th>\n",
       "      <th>value</th>\n",
       "      <th>std_dev</th>\n",
       "      <th>side</th>\n",
       "    </tr>\n",
       "  </thead>\n",
       "  <tbody>\n",
       "    <tr>\n",
       "      <th>0</th>\n",
       "      <td>None</td>\n",
       "      <td>v</td>\n",
       "      <td>bus</td>\n",
       "      <td>0</td>\n",
       "      <td>1.023254</td>\n",
       "      <td>0.005150</td>\n",
       "      <td>None</td>\n",
       "    </tr>\n",
       "    <tr>\n",
       "      <th>1</th>\n",
       "      <td>None</td>\n",
       "      <td>v</td>\n",
       "      <td>bus</td>\n",
       "      <td>1</td>\n",
       "      <td>0.900000</td>\n",
       "      <td>0.004980</td>\n",
       "      <td>None</td>\n",
       "    </tr>\n",
       "    <tr>\n",
       "      <th>2</th>\n",
       "      <td>None</td>\n",
       "      <td>v</td>\n",
       "      <td>bus</td>\n",
       "      <td>3</td>\n",
       "      <td>0.964891</td>\n",
       "      <td>0.004813</td>\n",
       "      <td>None</td>\n",
       "    </tr>\n",
       "    <tr>\n",
       "      <th>3</th>\n",
       "      <td>None</td>\n",
       "      <td>v</td>\n",
       "      <td>bus</td>\n",
       "      <td>4</td>\n",
       "      <td>0.964986</td>\n",
       "      <td>0.004804</td>\n",
       "      <td>None</td>\n",
       "    </tr>\n",
       "    <tr>\n",
       "      <th>4</th>\n",
       "      <td>None</td>\n",
       "      <td>v</td>\n",
       "      <td>bus</td>\n",
       "      <td>5</td>\n",
       "      <td>0.954120</td>\n",
       "      <td>0.004800</td>\n",
       "      <td>None</td>\n",
       "    </tr>\n",
       "  </tbody>\n",
       "</table>\n",
       "</div>"
      ],
      "text/plain": [
       "   name measurement_type element_type  element     value   std_dev  side\n",
       "0  None                v          bus        0  1.023254  0.005150  None\n",
       "1  None                v          bus        1  0.900000  0.004980  None\n",
       "2  None                v          bus        3  0.964891  0.004813  None\n",
       "3  None                v          bus        4  0.964986  0.004804  None\n",
       "4  None                v          bus        5  0.954120  0.004800  None"
      ]
     },
     "execution_count": 43,
     "metadata": {},
     "output_type": "execute_result"
    }
   ],
   "source": [
    "net.measurement.head()"
   ]
  },
  {
   "cell_type": "code",
   "execution_count": 45,
   "metadata": {},
   "outputs": [
    {
     "name": "stdout",
     "output_type": "stream",
     "text": [
      "remove data:  True\n"
     ]
    }
   ],
   "source": [
    "success_rn_max = remove_bad_data(net, init=\"slack\", calculate_voltage_angles=True)\n",
    "print('remove data: ', success_rn_max)"
   ]
  },
  {
   "cell_type": "code",
   "execution_count": 57,
   "metadata": {},
   "outputs": [
    {
     "name": "stdout",
     "output_type": "stream",
     "text": [
      "<function chi2_analysis at 0x10db2d6a8>\n"
     ]
    }
   ],
   "source": [
    "print(chi2_analysis)"
   ]
  },
  {
   "cell_type": "code",
   "execution_count": 46,
   "metadata": {},
   "outputs": [
    {
     "data": {
      "text/html": [
       "<div>\n",
       "<style scoped>\n",
       "    .dataframe tbody tr th:only-of-type {\n",
       "        vertical-align: middle;\n",
       "    }\n",
       "\n",
       "    .dataframe tbody tr th {\n",
       "        vertical-align: top;\n",
       "    }\n",
       "\n",
       "    .dataframe thead th {\n",
       "        text-align: right;\n",
       "    }\n",
       "</style>\n",
       "<table border=\"1\" class=\"dataframe\">\n",
       "  <thead>\n",
       "    <tr style=\"text-align: right;\">\n",
       "      <th></th>\n",
       "      <th>name</th>\n",
       "      <th>measurement_type</th>\n",
       "      <th>element_type</th>\n",
       "      <th>element</th>\n",
       "      <th>value</th>\n",
       "      <th>std_dev</th>\n",
       "      <th>side</th>\n",
       "    </tr>\n",
       "  </thead>\n",
       "  <tbody>\n",
       "    <tr>\n",
       "      <th>0</th>\n",
       "      <td>None</td>\n",
       "      <td>v</td>\n",
       "      <td>bus</td>\n",
       "      <td>0</td>\n",
       "      <td>1.023254</td>\n",
       "      <td>0.005150</td>\n",
       "      <td>None</td>\n",
       "    </tr>\n",
       "    <tr>\n",
       "      <th>2</th>\n",
       "      <td>None</td>\n",
       "      <td>v</td>\n",
       "      <td>bus</td>\n",
       "      <td>3</td>\n",
       "      <td>0.964891</td>\n",
       "      <td>0.004813</td>\n",
       "      <td>None</td>\n",
       "    </tr>\n",
       "    <tr>\n",
       "      <th>3</th>\n",
       "      <td>None</td>\n",
       "      <td>v</td>\n",
       "      <td>bus</td>\n",
       "      <td>4</td>\n",
       "      <td>0.964986</td>\n",
       "      <td>0.004804</td>\n",
       "      <td>None</td>\n",
       "    </tr>\n",
       "    <tr>\n",
       "      <th>4</th>\n",
       "      <td>None</td>\n",
       "      <td>v</td>\n",
       "      <td>bus</td>\n",
       "      <td>5</td>\n",
       "      <td>0.954120</td>\n",
       "      <td>0.004800</td>\n",
       "      <td>None</td>\n",
       "    </tr>\n",
       "    <tr>\n",
       "      <th>5</th>\n",
       "      <td>None</td>\n",
       "      <td>v</td>\n",
       "      <td>bus</td>\n",
       "      <td>6</td>\n",
       "      <td>0.955119</td>\n",
       "      <td>0.004799</td>\n",
       "      <td>None</td>\n",
       "    </tr>\n",
       "  </tbody>\n",
       "</table>\n",
       "</div>"
      ],
      "text/plain": [
       "   name measurement_type element_type  element     value   std_dev  side\n",
       "0  None                v          bus        0  1.023254  0.005150  None\n",
       "2  None                v          bus        3  0.964891  0.004813  None\n",
       "3  None                v          bus        4  0.964986  0.004804  None\n",
       "4  None                v          bus        5  0.954120  0.004800  None\n",
       "5  None                v          bus        6  0.955119  0.004799  None"
      ]
     },
     "execution_count": 46,
     "metadata": {},
     "output_type": "execute_result"
    }
   ],
   "source": [
    "net.measurement.head()"
   ]
  },
  {
   "cell_type": "code",
   "execution_count": 48,
   "metadata": {},
   "outputs": [
    {
     "data": {
      "text/plain": [
       "['bus',\n",
       " 'load',\n",
       " 'sgen',\n",
       " 'storage',\n",
       " 'gen',\n",
       " 'switch',\n",
       " 'shunt',\n",
       " 'ext_grid',\n",
       " 'line',\n",
       " 'trafo',\n",
       " 'trafo3w',\n",
       " 'impedance',\n",
       " 'dcline',\n",
       " 'ward',\n",
       " 'xward',\n",
       " 'measurement',\n",
       " 'pwl_cost',\n",
       " 'poly_cost',\n",
       " 'line_geodata',\n",
       " 'bus_geodata',\n",
       " '_empty_res_bus',\n",
       " '_empty_res_ext_grid',\n",
       " '_empty_res_line',\n",
       " '_empty_res_trafo',\n",
       " '_empty_res_trafo3w',\n",
       " '_empty_res_load',\n",
       " '_empty_res_sgen',\n",
       " '_empty_res_storage',\n",
       " '_empty_res_gen',\n",
       " '_empty_res_shunt',\n",
       " '_empty_res_impedance',\n",
       " '_empty_res_dcline',\n",
       " '_empty_res_ward',\n",
       " '_empty_res_xward',\n",
       " '_ppc',\n",
       " '_is_elements',\n",
       " '_pd2ppc_lookups',\n",
       " 'version',\n",
       " 'converged',\n",
       " 'name',\n",
       " 'f_hz',\n",
       " 'sn_mva',\n",
       " 'std_types',\n",
       " 'res_bus',\n",
       " 'res_line',\n",
       " 'res_trafo',\n",
       " 'res_trafo3w',\n",
       " 'res_impedance',\n",
       " 'res_ext_grid',\n",
       " 'res_load',\n",
       " 'res_sgen',\n",
       " 'res_storage',\n",
       " 'res_shunt',\n",
       " 'res_gen',\n",
       " 'res_ward',\n",
       " 'res_xward',\n",
       " 'res_dcline',\n",
       " 'user_pf_options',\n",
       " '_options',\n",
       " 'OPF_converged',\n",
       " '_impedance_bb_switches',\n",
       " '_isolated_buses',\n",
       " '_gen_order',\n",
       " 'res_bus_power_flow',\n",
       " 'res_ext_grid_power_flow',\n",
       " 'res_line_power_flow',\n",
       " 'res_load_power_flow',\n",
       " 'res_sgen_power_flow',\n",
       " 'res_trafo_power_flow',\n",
       " 'res_trafo3w_power_flow',\n",
       " 'res_shunt_power_flow',\n",
       " 'res_impedance_power_flow',\n",
       " 'res_gen_power_flow',\n",
       " 'res_ward_power_flow',\n",
       " 'res_xward_power_flow',\n",
       " 'res_dcline_power_flow',\n",
       " '_fused_bb_switches',\n",
       " 'res_bus_est',\n",
       " 'res_line_est',\n",
       " 'res_trafo_est',\n",
       " 'res_trafo3w_est']"
      ]
     },
     "execution_count": 48,
     "metadata": {},
     "output_type": "execute_result"
    }
   ],
   "source": [
    "list(net)"
   ]
  },
  {
   "cell_type": "code",
   "execution_count": 54,
   "metadata": {},
   "outputs": [
    {
     "data": {
      "text/plain": [
       "{'ext_grid': (0, 1)}"
      ]
     },
     "execution_count": 54,
     "metadata": {},
     "output_type": "execute_result"
    }
   ],
   "source": [
    "net._gen_order"
   ]
  },
  {
   "cell_type": "code",
   "execution_count": 59,
   "metadata": {},
   "outputs": [
    {
     "ename": "AttributeError",
     "evalue": "'pandapowerNet' instance has no attribute 'bad_data_present'",
     "output_type": "error",
     "traceback": [
      "\u001b[0;31m---------------------------------------------------------------------------\u001b[0m",
      "\u001b[0;31mAttributeError\u001b[0m                            Traceback (most recent call last)",
      "\u001b[0;32m<ipython-input-59-53b6318a272b>\u001b[0m in \u001b[0;36m<module>\u001b[0;34m()\u001b[0m\n\u001b[0;32m----> 1\u001b[0;31m \u001b[0mnet\u001b[0m\u001b[0;34m.\u001b[0m\u001b[0mbad_data_present\u001b[0m\u001b[0;34m(\u001b[0m\u001b[0;34m)\u001b[0m\u001b[0;34m\u001b[0m\u001b[0;34m\u001b[0m\u001b[0m\n\u001b[0m",
      "\u001b[0;32m~/anaconda3/envs/Powersystem/lib/python3.6/site-packages/pandapower/auxiliary.py\u001b[0m in \u001b[0;36m__getattr__\u001b[0;34m(self, key)\u001b[0m\n\u001b[1;32m    158\u001b[0m             raise AttributeError(\n\u001b[1;32m    159\u001b[0m                 \"'{cls}' instance has no attribute '{name}'\".format(\n\u001b[0;32m--> 160\u001b[0;31m                     \u001b[0mcls\u001b[0m\u001b[0;34m=\u001b[0m\u001b[0mself\u001b[0m\u001b[0;34m.\u001b[0m\u001b[0m__class__\u001b[0m\u001b[0;34m.\u001b[0m\u001b[0m__name__\u001b[0m\u001b[0;34m,\u001b[0m \u001b[0mname\u001b[0m\u001b[0;34m=\u001b[0m\u001b[0mkey\u001b[0m\u001b[0;34m\u001b[0m\u001b[0;34m\u001b[0m\u001b[0m\n\u001b[0m\u001b[1;32m    161\u001b[0m                 )\n\u001b[1;32m    162\u001b[0m             )\n",
      "\u001b[0;31mAttributeError\u001b[0m: 'pandapowerNet' instance has no attribute 'bad_data_present'"
     ]
    }
   ],
   "source": [
    "net.bad_data_present()"
   ]
  },
  {
   "cell_type": "code",
   "execution_count": null,
   "metadata": {},
   "outputs": [],
   "source": []
  }
 ],
 "metadata": {
  "kernelspec": {
   "display_name": "Python 3",
   "language": "python",
   "name": "python3"
  },
  "language_info": {
   "codemirror_mode": {
    "name": "ipython",
    "version": 3
   },
   "file_extension": ".py",
   "mimetype": "text/x-python",
   "name": "python",
   "nbconvert_exporter": "python",
   "pygments_lexer": "ipython3",
   "version": "3.6.8"
  }
 },
 "nbformat": 4,
 "nbformat_minor": 2
}
